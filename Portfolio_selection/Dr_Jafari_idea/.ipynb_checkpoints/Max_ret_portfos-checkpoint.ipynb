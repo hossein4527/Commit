{
 "cells": [
  {
   "cell_type": "code",
   "execution_count": 10,
   "metadata": {},
   "outputs": [],
   "source": [
    "import pandas as pd\n",
    "import numpy as np\n",
    "import matplotlib.pyplot as plt\n",
    "from mod_packs import quantum_potential as qp"
   ]
  },
  {
   "cell_type": "code",
   "execution_count": 18,
   "metadata": {},
   "outputs": [],
   "source": [
    "price_df = pd.read_excel('PRICE INDEX.xlsx').dropna().set_index('Date')\n",
    "price_val = price_df.T.values\n",
    "names = [price_df.columns[i][:3] for i in range(8)]\n",
    "data = np.load('fitness_p_count50steps100retain0.3rnd0.3mutate0.30.6410816430739228.npy' , allow_pickle=True)"
   ]
  },
  {
   "cell_type": "code",
   "execution_count": 12,
   "metadata": {},
   "outputs": [],
   "source": [
    "low_risk_portfos = np.load('final_portfos.npy' , allow_pickle=True)"
   ]
  },
  {
   "cell_type": "code",
   "execution_count": 13,
   "metadata": {},
   "outputs": [
    {
     "data": {
      "text/plain": [
       "[<matplotlib.lines.Line2D at 0x7fbc99a06ee0>]"
      ]
     },
     "execution_count": 13,
     "metadata": {},
     "output_type": "execute_result"
    },
    {
     "data": {
      "image/png": "[encoded data removed]",
      "text/plain": [
       "<Figure size 432x288 with 1 Axes>"
      ]
     },
     "metadata": {
      "needs_background": "light"
     },
     "output_type": "display_data"
    }
   ],
   "source": [
    "plt.plot(sorted(data[:,0]))"
   ]
  },
  {
   "cell_type": "code",
   "execution_count": 14,
   "metadata": {},
   "outputs": [
    {
     "data": {
      "text/plain": [
       "array([0.00030562227656906666,\n",
       "       list([0.015715740977449585, 0.004982276137978993, 0.04224518502829162, 0.003786005899704897, 0.8090589625441255, 0.03189021777839664, 0.01679331531345528, 0.07552829632059763])],\n",
       "      dtype=object)"
      ]
     },
     "execution_count": 14,
     "metadata": {},
     "output_type": "execute_result"
    }
   ],
   "source": [
    "ma = np.where(data[:,0] == max(data[:,0]))[0][0]\n",
    "data[ma]"
   ]
  },
  {
   "cell_type": "code",
   "execution_count": 15,
   "metadata": {},
   "outputs": [],
   "source": [
    "portfo = data[ma,1]\n",
    "price_df = pd.read_excel('PRICE INDEX.xlsx').set_index('Date').dropna()\n",
    "price_val = price_df.values.T\n",
    "ret_values = [qp.scaled_return(price_val[i],1) for i in range(8)]\n",
    "port_ret_max = qp.ind_generator(ret_values , portfo)"
   ]
  },
  {
   "cell_type": "code",
   "execution_count": 27,
   "metadata": {},
   "outputs": [
    {
     "data": {
      "text/html": [
       "<div>\n",
       "<style scoped>\n",
       "    .dataframe tbody tr th:only-of-type {\n",
       "        vertical-align: middle;\n",
       "    }\n",
       "\n",
       "    .dataframe tbody tr th {\n",
       "        vertical-align: top;\n",
       "    }\n",
       "\n",
       "    .dataframe thead th {\n",
       "        text-align: right;\n",
       "    }\n",
       "</style>\n",
       "<table border=\"1\" class=\"dataframe\">\n",
       "  <thead>\n",
       "    <tr style=\"text-align: right;\">\n",
       "      <th></th>\n",
       "      <th>mean_ret</th>\n",
       "    </tr>\n",
       "  </thead>\n",
       "  <tbody>\n",
       "    <tr>\n",
       "      <th>S&amp;P</th>\n",
       "      <td>0.026761</td>\n",
       "    </tr>\n",
       "    <tr>\n",
       "      <th>FTS</th>\n",
       "      <td>0.014917</td>\n",
       "    </tr>\n",
       "    <tr>\n",
       "      <th>DAX</th>\n",
       "      <td>0.027747</td>\n",
       "    </tr>\n",
       "    <tr>\n",
       "      <th>TOP</th>\n",
       "      <td>-0.000859</td>\n",
       "    </tr>\n",
       "    <tr>\n",
       "      <th>SHA</th>\n",
       "      <td>0.032252</td>\n",
       "    </tr>\n",
       "    <tr>\n",
       "      <th>KOR</th>\n",
       "      <td>0.018280</td>\n",
       "    </tr>\n",
       "    <tr>\n",
       "      <th>NIK</th>\n",
       "      <td>-0.000966</td>\n",
       "    </tr>\n",
       "    <tr>\n",
       "      <th>DOW</th>\n",
       "      <td>0.029631</td>\n",
       "    </tr>\n",
       "  </tbody>\n",
       "</table>\n",
       "</div>"
      ],
      "text/plain": [
       "     mean_ret\n",
       "S&P  0.026761\n",
       "FTS  0.014917\n",
       "DAX  0.027747\n",
       "TOP -0.000859\n",
       "SHA  0.032252\n",
       "KOR  0.018280\n",
       "NIK -0.000966\n",
       "DOW  0.029631"
      ]
     },
     "execution_count": 27,
     "metadata": {},
     "output_type": "execute_result"
    }
   ],
   "source": [
    "# plt.plot([np.mean(ret_values[i]) for i in range(8)] , 'o')\n",
    "tot_df = pd.DataFrame({'mean_ret':[np.mean(ret_values[i])*100 for i in range(8)]} , index=names)\n",
    "tot_df     "
   ]
  },
  {
   "cell_type": "code",
   "execution_count": 43,
   "metadata": {},
   "outputs": [
    {
     "data": {
      "image/png": "[encoded data removed]",
      "text/plain": [
       "<Figure size 1152x648 with 1 Axes>"
      ]
     },
     "metadata": {
      "needs_background": "light"
     },
     "output_type": "display_data"
    }
   ],
   "source": [
    "                           \n",
    "# plt.rcParams['font.family'] = 'sans-serif'\n",
    "plt.rcParams['font.sans-serif'] = 'Helvetica'\n",
    "plt.rcParams['axes.edgecolor']='#333F4B'\n",
    "plt.rcParams['axes.linewidth']=0.8\n",
    "plt.rcParams['xtick.color']='#333F4B'\n",
    "plt.rcParams['ytick.color']='#333F4B'\n",
    "\n",
    "fig, ax = plt.subplots(figsize=(16,9))\n",
    "my_range=list(tot_df.index)  \n",
    "ran1 = range(8)\n",
    "ran2 = [0  , 0.9, 1.9, 2.9, 3.9, 4.9, 5.9, 6.8 , 7.77]\n",
    "width = 1\n",
    "plt.hlines(y=ran1, xmin=0, xmax=tot_df['mean_ret'], color='#007acc', alpha=0.2, linewidth=10)\n",
    "# plt.hlines(y=ran2, xmin=0, xmax=tot_df['STD'], color='red', alpha=0.2, linewidth=5)\n",
    "\n",
    "plt.plot(tot_df['mean_ret'], ran1, \"o\", markersize=10, color='#007acc', alpha=0.5 , label='Q-potential risk')\n",
    "# plt.plot(tot_df['STD'], ran2, \"o\", markersize=5, color='red', alpha=0.6 , label='STD')\n",
    "\n",
    "# plt.legend()\n",
    "ax.set_xlabel('Mean of Daily Returns', fontsize=15, fontweight='black', color = '#333F4B')\n",
    "ax.set_ylabel('')\n",
    "plt.yticks(np.arange(9) ,my_range)\n",
    "plt.xticks(np.arange(-0.005,0.035, 0.005))\n",
    "ax.spines['top'].set_color('none')\n",
    "ax.spines['right'].set_color('none')\n",
    "ax.spines['left'].set_smart_bounds(True)\n",
    "ax.spines['bottom'].set_smart_bounds(True)\n",
    "plt.savefig('each_market_mean_return.png', dpi=300, bbox_inches='tight')"
   ]
  },
  {
   "cell_type": "code",
   "execution_count": 60,
   "metadata": {},
   "outputs": [
    {
     "data": {
      "text/plain": [
       "0.00018470192375919198"
      ]
     },
     "execution_count": 60,
     "metadata": {},
     "output_type": "execute_result"
    }
   ],
   "source": [
    "np.mean([np.mean(ret_values[i]) for i in range(8)])"
   ]
  },
  {
   "cell_type": "code",
   "execution_count": 45,
   "metadata": {},
   "outputs": [
    {
     "data": {
      "text/plain": [
       "array([0.11309476, 0.10275511, 0.08849958, 0.14085771, 0.16814677,\n",
       "       0.14441716, 0.0565606 , 0.1856683 ])"
      ]
     },
     "execution_count": 45,
     "metadata": {},
     "output_type": "execute_result"
    }
   ],
   "source": [
    "low_risk_portfos[0]"
   ]
  },
  {
   "cell_type": "code",
   "execution_count": 62,
   "metadata": {},
   "outputs": [],
   "source": [
    "risks = []\n",
    "for ind in range(len(data)):\n",
    "    d,u = qp.risk_data_input(qp.ind_generator([qp.scaled_return(price_val[i],1) for i in range(8)] , data[ind,1]), 0.0005)\n",
    "    risks.append(u-d)    \n",
    "low_risks = []\n",
    "low_risk_returns = []\n",
    "for ind in range(len(low_risk_portfos)):\n",
    "    d,u = qp.risk_data_input(qp.ind_generator([qp.scaled_return(price_val[i],1) for i in range(8)] , low_risk_portfos[ind]), 0.0005)\n",
    "    low_risks.append(u-d)      \n",
    "    port_ret = qp.ind_generator([qp.scaled_return(price_val[i],1) for i in range(8)] , low_risk_portfos[ind])\n",
    "    low_risk_returns.append(np.mean(port_ret))\n",
    "low_risk_returns.remove(low_risk_returns[1])\n",
    "low_risks.remove(low_risks[1])    "
   ]
  },
  {
   "cell_type": "code",
   "execution_count": 89,
   "metadata": {},
   "outputs": [
    {
     "data": {
      "text/plain": [
       "[0.0002040363785789474,\n",
       " 0.00020175147498516946,\n",
       " 0.00021533601997078918,\n",
       " 0.0002141808810430285,\n",
       " 0.00020431742699694556,\n",
       " 0.00020535486442039454,\n",
       " 0.00021514191532680564,\n",
       " 0.0002198397108051207]"
      ]
     },
     "execution_count": 89,
     "metadata": {},
     "output_type": "execute_result"
    }
   ],
   "source": [
    "low_risk_returns"
   ]
  },
  {
   "cell_type": "code",
   "execution_count": 128,
   "metadata": {},
   "outputs": [],
   "source": [
    "best_port_ret = []\n",
    "best_port_ris = []\n",
    "for i in range(len(risks)):\n",
    "    if risks[i]<0.125 and data[i,0]>0.000278:\n",
    "        best_port_ris.append(risks[i])\n",
    "        best_port_ret.append(data[i,0])\n",
    "            "
   ]
  },
  {
   "cell_type": "code",
   "execution_count": 138,
   "metadata": {},
   "outputs": [
    {
     "data": {
      "image/png": "[encoded data removed]",
      "text/plain": [
       "<Figure size 1152x648 with 1 Axes>"
      ]
     },
     "metadata": {
      "needs_background": "light"
     },
     "output_type": "display_data"
    }
   ],
   "source": [
    "fig, ax = plt.subplots(figsize=(16,9))\n",
    "minnn = np.array(risks)[np.array(risks)<0.1]\n",
    "wher = [np.where(np.array(risks) == minnn[i])[0][0] for i in range(len(minnn))]\n",
    "\n",
    "plt.plot(data[:,0]*100 , risks , 'o' ,color='blue', markersize=8)\n",
    "plt.plot(np.array(low_risk_returns[:-1])*100 , low_risks[:-1], 'o' , color='blue' , markersize=8)\n",
    "\n",
    "plt.plot(np.array(low_risk_returns[-1])*100 , low_risks[-1], 'o' , color='red' , markersize=10)\n",
    "plt.plot(np.array(data[wher,0])*100 , np.array(risks)[wher] , 'o' , color='red' , markersize=10)\n",
    "plt.plot(np.array(best_port_ret)*100 , best_port_ris , 'o' , color='red' , markersize=10 , label='Selected Portfolio')\n",
    "\n",
    "# plt.hlines(y=[0.08], xmin=0.0002, xmax=0.00031, color='lawngreen', alpha=1, linewidth=150)\n",
    "# plt.hlines(y=[0.10], xmin=0.0002, xmax=0.00031, color='cyan', alpha=1, linewidth=100)\n",
    "# plt.hlines(y=[0.15], xmin=0.0002, xmax=0.00031, color='red', alpha=0.8, linewidth=250)\n",
    "\n",
    "plt.xlabel('Mean of daily returns(%)' , fontsize=15, fontweight='black', color = '#333F4B')\n",
    "plt.ylabel('Quantum risk' , fontsize=15, fontweight='black', color = '#333F4B')\n",
    "\n",
    "# plt.xticks([0,1,2,3,4,5,6,7],[2,3,4,5,6,7,8] )\n",
    "ax.spines['top'].set_color('none')\n",
    "ax.spines['right'].set_color('none')\n",
    "ax.spines['left'].set_smart_bounds(True)\n",
    "ax.spines['bottom'].set_smart_bounds(True)\n",
    "plt.legend()\n",
    "plt.savefig('test_risk_vs_return2.png', dpi=300, bbox_inches='tight' , transparent=False)"
   ]
  },
  {
   "cell_type": "code",
   "execution_count": 110,
   "metadata": {},
   "outputs": [
    {
     "name": "stderr",
     "output_type": "stream",
     "text": [
      "<ipython-input-110-3922030f8cc6>:1: DeprecationWarning: elementwise comparison failed; this will raise an error in the future.\n",
      "  np.where(np.array(risks) == np.array(risks)[np.array(risks)<0.093])\n"
     ]
    },
    {
     "data": {
      "text/plain": [
       "(array([], dtype=int64),)"
      ]
     },
     "execution_count": 110,
     "metadata": {},
     "output_type": "execute_result"
    }
   ],
   "source": [
    "np.where(np.array(risks) == np.array(risks)[np.array(risks)<0.093])"
   ]
  },
  {
   "cell_type": "code",
   "execution_count": 116,
   "metadata": {},
   "outputs": [],
   "source": [
    "minnn = np.array(risks)[np.array(risks)<0.10]\n",
    "wher = [np.where(np.array(risks) == minnn[i])[0][0] for i in range(len(minnn))]"
   ]
  },
  {
   "cell_type": "code",
   "execution_count": 118,
   "metadata": {},
   "outputs": [
    {
     "data": {
      "text/plain": [
       "array([0.08598981, 0.09780434, 0.09280156, 0.09280156, 0.09961643,\n",
       "       0.09961643])"
      ]
     },
     "execution_count": 118,
     "metadata": {},
     "output_type": "execute_result"
    }
   ],
   "source": [
    "np.array(risks)[wher]"
   ]
  },
  {
   "cell_type": "code",
   "execution_count": 121,
   "metadata": {},
   "outputs": [
    {
     "data": {
      "text/plain": [
       "array([0.0002329723141844959, 0.00024902370079713556,\n",
       "       0.00027117958815346395, 0.00027117958815346395,\n",
       "       0.00027648320454454266, 0.00027648320454454266], dtype=object)"
      ]
     },
     "execution_count": 121,
     "metadata": {},
     "output_type": "execute_result"
    }
   ],
   "source": [
    "data[wher,0]"
   ]
  },
  {
   "cell_type": "code",
   "execution_count": null,
   "metadata": {},
   "outputs": [],
   "source": []
  }
 ],
 "metadata": {
  "kernelspec": {
   "display_name": "Python 3",
   "language": "python",
   "name": "python3"
  },
  "language_info": {
   "codemirror_mode": {
    "name": "ipython",
    "version": 3
   },
   "file_extension": ".py",
   "mimetype": "text/x-python",
   "name": "python",
   "nbconvert_exporter": "python",
   "pygments_lexer": "ipython3",
   "version": "3.8.2"
  }
 },
 "nbformat": 4,
 "nbformat_minor": 4
}
