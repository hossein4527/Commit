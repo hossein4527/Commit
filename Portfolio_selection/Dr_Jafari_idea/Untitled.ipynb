{
 "cells": [
  {
   "cell_type": "code",
   "execution_count": 1,
   "metadata": {},
   "outputs": [],
   "source": [
    "import numpy as np\n",
    "import pandas as pd"
   ]
  },
  {
   "cell_type": "code",
   "execution_count": 19,
   "metadata": {},
   "outputs": [],
   "source": [
    "portfos = np.load('final_portfos.npy',allow_pickle=True)\n",
    "price_df = pd.read_excel('PRICE INDEX.xlsx').set_index('Date').dropna()\n",
    "names = [price_df.columns[i][:3] for i in range(8)]\n",
    "indeks = ['portfo'+str(i) for i in range(1,10)]"
   ]
  },
  {
   "cell_type": "code",
   "execution_count": 20,
   "metadata": {},
   "outputs": [
    {
     "data": {
      "text/plain": [
       "['S&P', 'FTS', 'DAX', 'TOP', 'SHA', 'KOR', 'NIK', 'DOW']"
      ]
     },
     "execution_count": 20,
     "metadata": {},
     "output_type": "execute_result"
    }
   ],
   "source": [
    "names"
   ]
  },
  {
   "cell_type": "code",
   "execution_count": 21,
   "metadata": {},
   "outputs": [],
   "source": [
    "portfo_df = pd.DataFrame(portfos , index= indeks)\n",
    "portfo_df.columns = names"
   ]
  },
  {
   "cell_type": "code",
   "execution_count": 22,
   "metadata": {},
   "outputs": [
    {
     "data": {
      "text/html": [
       "<div>\n",
       "<style scoped>\n",
       "    .dataframe tbody tr th:only-of-type {\n",
       "        vertical-align: middle;\n",
       "    }\n",
       "\n",
       "    .dataframe tbody tr th {\n",
       "        vertical-align: top;\n",
       "    }\n",
       "\n",
       "    .dataframe thead th {\n",
       "        text-align: right;\n",
       "    }\n",
       "</style>\n",
       "<table border=\"1\" class=\"dataframe\">\n",
       "  <thead>\n",
       "    <tr style=\"text-align: right;\">\n",
       "      <th></th>\n",
       "      <th>S&amp;P</th>\n",
       "      <th>FTS</th>\n",
       "      <th>DAX</th>\n",
       "      <th>TOP</th>\n",
       "      <th>SHA</th>\n",
       "      <th>KOR</th>\n",
       "      <th>NIK</th>\n",
       "      <th>DOW</th>\n",
       "    </tr>\n",
       "  </thead>\n",
       "  <tbody>\n",
       "    <tr>\n",
       "      <th>portfo1</th>\n",
       "      <td>0.113095</td>\n",
       "      <td>0.102755</td>\n",
       "      <td>0.088500</td>\n",
       "      <td>0.140858</td>\n",
       "      <td>0.168147</td>\n",
       "      <td>0.144417</td>\n",
       "      <td>0.056561</td>\n",
       "      <td>0.185668</td>\n",
       "    </tr>\n",
       "    <tr>\n",
       "      <th>portfo2</th>\n",
       "      <td>0.089551</td>\n",
       "      <td>0.178997</td>\n",
       "      <td>0.078219</td>\n",
       "      <td>0.190119</td>\n",
       "      <td>0.092487</td>\n",
       "      <td>0.079817</td>\n",
       "      <td>0.159800</td>\n",
       "      <td>0.131011</td>\n",
       "    </tr>\n",
       "    <tr>\n",
       "      <th>portfo3</th>\n",
       "      <td>0.103201</td>\n",
       "      <td>0.102069</td>\n",
       "      <td>0.073193</td>\n",
       "      <td>0.150250</td>\n",
       "      <td>0.157800</td>\n",
       "      <td>0.109263</td>\n",
       "      <td>0.069025</td>\n",
       "      <td>0.235199</td>\n",
       "    </tr>\n",
       "    <tr>\n",
       "      <th>portfo4</th>\n",
       "      <td>0.154269</td>\n",
       "      <td>0.089552</td>\n",
       "      <td>0.085526</td>\n",
       "      <td>0.098115</td>\n",
       "      <td>0.149766</td>\n",
       "      <td>0.179297</td>\n",
       "      <td>0.050378</td>\n",
       "      <td>0.193097</td>\n",
       "    </tr>\n",
       "    <tr>\n",
       "      <th>portfo5</th>\n",
       "      <td>0.166394</td>\n",
       "      <td>0.085590</td>\n",
       "      <td>0.088038</td>\n",
       "      <td>0.133246</td>\n",
       "      <td>0.175360</td>\n",
       "      <td>0.096090</td>\n",
       "      <td>0.052821</td>\n",
       "      <td>0.202462</td>\n",
       "    </tr>\n",
       "    <tr>\n",
       "      <th>portfo6</th>\n",
       "      <td>0.145948</td>\n",
       "      <td>0.093102</td>\n",
       "      <td>0.097356</td>\n",
       "      <td>0.186087</td>\n",
       "      <td>0.151028</td>\n",
       "      <td>0.103076</td>\n",
       "      <td>0.025456</td>\n",
       "      <td>0.197946</td>\n",
       "    </tr>\n",
       "    <tr>\n",
       "      <th>portfo7</th>\n",
       "      <td>0.158876</td>\n",
       "      <td>0.112016</td>\n",
       "      <td>0.085210</td>\n",
       "      <td>0.144619</td>\n",
       "      <td>0.168341</td>\n",
       "      <td>0.148187</td>\n",
       "      <td>0.038576</td>\n",
       "      <td>0.144175</td>\n",
       "    </tr>\n",
       "    <tr>\n",
       "      <th>portfo8</th>\n",
       "      <td>0.233481</td>\n",
       "      <td>0.026127</td>\n",
       "      <td>0.121040</td>\n",
       "      <td>0.123248</td>\n",
       "      <td>0.145440</td>\n",
       "      <td>0.157316</td>\n",
       "      <td>0.054635</td>\n",
       "      <td>0.138712</td>\n",
       "    </tr>\n",
       "    <tr>\n",
       "      <th>portfo9</th>\n",
       "      <td>0.158173</td>\n",
       "      <td>0.030639</td>\n",
       "      <td>0.133765</td>\n",
       "      <td>0.096798</td>\n",
       "      <td>0.153442</td>\n",
       "      <td>0.172912</td>\n",
       "      <td>0.064649</td>\n",
       "      <td>0.189622</td>\n",
       "    </tr>\n",
       "  </tbody>\n",
       "</table>\n",
       "</div>"
      ],
      "text/plain": [
       "              S&P       FTS       DAX       TOP       SHA       KOR       NIK  \\\n",
       "portfo1  0.113095  0.102755  0.088500  0.140858  0.168147  0.144417  0.056561   \n",
       "portfo2  0.089551  0.178997  0.078219  0.190119  0.092487  0.079817  0.159800   \n",
       "portfo3  0.103201  0.102069  0.073193  0.150250  0.157800  0.109263  0.069025   \n",
       "portfo4  0.154269  0.089552  0.085526  0.098115  0.149766  0.179297  0.050378   \n",
       "portfo5  0.166394  0.085590  0.088038  0.133246  0.175360  0.096090  0.052821   \n",
       "portfo6  0.145948  0.093102  0.097356  0.186087  0.151028  0.103076  0.025456   \n",
       "portfo7  0.158876  0.112016  0.085210  0.144619  0.168341  0.148187  0.038576   \n",
       "portfo8  0.233481  0.026127  0.121040  0.123248  0.145440  0.157316  0.054635   \n",
       "portfo9  0.158173  0.030639  0.133765  0.096798  0.153442  0.172912  0.064649   \n",
       "\n",
       "              DOW  \n",
       "portfo1  0.185668  \n",
       "portfo2  0.131011  \n",
       "portfo3  0.235199  \n",
       "portfo4  0.193097  \n",
       "portfo5  0.202462  \n",
       "portfo6  0.197946  \n",
       "portfo7  0.144175  \n",
       "portfo8  0.138712  \n",
       "portfo9  0.189622  "
      ]
     },
     "execution_count": 22,
     "metadata": {},
     "output_type": "execute_result"
    }
   ],
   "source": [
    "portfo_df"
   ]
  },
  {
   "cell_type": "code",
   "execution_count": null,
   "metadata": {},
   "outputs": [],
   "source": []
  }
 ],
 "metadata": {
  "kernelspec": {
   "display_name": "Python 3",
   "language": "python",
   "name": "python3"
  },
  "language_info": {
   "codemirror_mode": {
    "name": "ipython",
    "version": 3
   },
   "file_extension": ".py",
   "mimetype": "text/x-python",
   "name": "python",
   "nbconvert_exporter": "python",
   "pygments_lexer": "ipython3",
   "version": "3.8.0"
  }
 },
 "nbformat": 4,
 "nbformat_minor": 4
}
