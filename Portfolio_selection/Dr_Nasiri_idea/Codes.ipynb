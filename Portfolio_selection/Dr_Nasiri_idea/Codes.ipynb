{
 "cells": [
  {
   "cell_type": "markdown",
   "metadata": {},
   "source": [
    "# Requird libraries"
   ]
  },
  {
   "cell_type": "code",
   "execution_count": 2,
   "metadata": {},
   "outputs": [
    {
     "name": "stderr",
     "output_type": "stream",
     "text": [
      "/usr/lib/python3.8/site-packages/sklearn/utils/deprecation.py:143: FutureWarning: The sklearn.neighbors.kde module is  deprecated in version 0.22 and will be removed in version 0.24. The corresponding classes / functions should instead be imported from sklearn.neighbors. Anything that cannot be imported from sklearn.neighbors is now part of the private API.\n",
      "  warnings.warn(message, FutureWarning)\n"
     ]
    }
   ],
   "source": [
    "import numpy as np\n",
    "from numpy import sum,zeros,amin,amax,ceil,log,array,exp,sort,diff\n",
    "from random import random , randint\n",
    "from functools import reduce\n",
    "from operator import add\n",
    "from sklearn.neighbors.kde import KernelDensity\n",
    "from scipy.signal import argrelextrema"
   ]
  },
  {
   "cell_type": "markdown",
   "metadata": {},
   "source": [
    "# Calculating Return values from Price data"
   ]
  },
  {
   "cell_type": "code",
   "execution_count": 1,
   "metadata": {},
   "outputs": [],
   "source": [
    "def scaled_return(data , scale):\n",
    "    ret_list = []\n",
    "    for i in np.arange(0,len(data)-scale):\n",
    "        ret_list.append(log(data[i+scale])-log(data[i]))       \n",
    "    return np.array(ret_list)"
   ]
  },
  {
   "cell_type": "markdown",
   "metadata": {},
   "source": [
    "# Calculating Quantum potential from Return values"
   ]
  },
  {
   "cell_type": "code",
   "execution_count": 3,
   "metadata": {},
   "outputs": [],
   "source": [
    "def Quantum_pot( data , band_width):\n",
    "    \n",
    "    X = data[:, np.newaxis]\n",
    "    X_plot = np.linspace(min(data),max(data), 200)[:, np.newaxis]\n",
    "    kde = KernelDensity(kernel='gaussian', bandwidth=band_width).fit(X)\n",
    "    log_dens = kde.score_samples(X_plot)\n",
    "    pdf = np.exp(log_dens)\n",
    "\n",
    "    sec_dev = np.diff(pdf,2)\n",
    "    qpot = [500.0]\n",
    "    for i in range(1,len(pdf)-1):\n",
    "        if pdf[i] > 0.0001:\n",
    "            jj = sec_dev[i-1]/pdf[i]\n",
    "        else:\n",
    "            jj=500\n",
    "        qpot.append(jj)\n",
    "    qpot.append(500)\n",
    "    return X_plot.reshape(len(pdf)) , qpot"
   ]
  },
  {
   "cell_type": "markdown",
   "metadata": {},
   "source": [
    "# Genetic Algorithm towrads earning optimized portfolio"
   ]
  },
  {
   "cell_type": "code",
   "execution_count": 6,
   "metadata": {},
   "outputs": [],
   "source": [
    "class Genetic_Algorithm(object):\n",
    "    \"\"\"genetic algorithm written for risk.\"\"\"\n",
    "    def __init__(self, portfo_prices, band_width):\n",
    "        # super(price_return, self).__init__()\n",
    "        self.ret = portfo_prices\n",
    "        self.length = len(portfo_prices)\n",
    "        self.band_width = band_width\n",
    "        \n",
    "    def individual(self):\n",
    "        suu = np.array([ random() for x in range(self.length) ])\n",
    "        return suu/np.sum(suu)\n",
    "\n",
    "    def population(self,count):\n",
    "        return [self.individual() for x in range(count)]\n",
    "\n",
    "    def fitness(self,individual, markets):\n",
    "        portfo_return = np.zeros(len(markets[0]))\n",
    "        for j in range(len(markets[0])):\n",
    "            portfo_return[j] = np.dot(np.array(individual) , np.array(markets).T[j])\n",
    "\n",
    "        ret = portfo_return\n",
    "        X = ret[:, np.newaxis]\n",
    "        X_plot = np.linspace(min(ret),max(ret), 200)[:, np.newaxis]\n",
    "        kde = KernelDensity(kernel='gaussian', bandwidth=self.band_width).fit(X)\n",
    "        log_dens = kde.score_samples(X_plot)\n",
    "        pdf = np.exp(log_dens)\n",
    "\n",
    "        sec_dev = np.diff(pdf,2)\n",
    "        qpot = [500.0]\n",
    "        for i in range(1,len(pdf)-1):\n",
    "            if pdf[i] > 0.0001:\n",
    "                jj = sec_dev[i-1]/pdf[i]\n",
    "            else:\n",
    "                jj=500\n",
    "            qpot.append(jj) \n",
    "        qpot.append(500)\n",
    "        # dd = X_plot[argrelextrema(qpot, np.greater)]\n",
    "        # risk = dd[dd>0][0] - dd[dd<0][-1]\n",
    "\n",
    "        xx =[]\n",
    "        x = X_plot.reshape(len(qpot))\n",
    "        for i in range(len(qpot)):\n",
    "            if qpot[i] >= 499:\n",
    "                xx.append(i)\n",
    "        x_list = np.array(x)[xx]\n",
    "        d_lim = x_list[x_list<0][-1]\n",
    "        u_lim = x_list[x_list>0][0]\n",
    "\n",
    "        return u_lim-d_lim\n",
    "\n",
    "\n",
    "    def grade(self,pop , markets):\n",
    "        summed = reduce(add, (self.fitness(x, markets) for x in pop), 0)\n",
    "        return summed/(len(pop)*1.0)\n",
    "\n",
    "    def evolve(self,pop, markets, retain, random_select, mutate):\n",
    "        graded1 = [ (self.fitness(x, markets),list(x)) for x in pop]\n",
    "        graded = [ x[1] for x in sorted(list(graded1))]\n",
    "        \n",
    "\n",
    "        retain_length = int(len(graded)*retain)\n",
    "        parents = graded[:retain_length]\n",
    "        \n",
    "        for individual in graded[retain_length:]:\n",
    "            if random_select > random():\n",
    "                parents.append(individual)\n",
    "        \n",
    "        for i in range(len(parents)):\n",
    "            if mutate > random():\n",
    "                pos_to_mutate = randint(0, len(individual)-1)\n",
    "                parents[i][pos_to_mutate] = random()*(-min(individual)+max(individual)) + min(individual)\n",
    "                parents[i] /= np.sum(parents[i])\n",
    "        \n",
    "        parents_length = len(parents)\n",
    "        desired_length = len(pop) - parents_length\n",
    "        children = []\n",
    "        while len(children) < desired_length:\n",
    "            male = randint(0, parents_length-1)\n",
    "            female = randint(0, parents_length-1)\n",
    "            if male != female:\n",
    "                male = parents[male]\n",
    "                female = parents[female]\n",
    "                half = int(len(male) / 2)\n",
    "                child = np.concatenate((male[:half] , female[half:]))\n",
    "                child/=np.sum(child)\n",
    "                children.append(child)\n",
    "                \n",
    "        parents.extend(children)\n",
    "        \n",
    "        return parents"
   ]
  },
  {
   "cell_type": "code",
   "execution_count": 7,
   "metadata": {},
   "outputs": [],
   "source": [
    "def run_genetic_a(data, p_count, steps, retain, random_select,mutate ,scale):\n",
    "    genetic = GA_new(data,scale)\n",
    "    p = genetic.population(p_count)\n",
    "    fitness_history = [[genetic.fitness(p[0] , data),list(p[0])]]\n",
    "    for i in range(steps):\n",
    "        p = genetic.evolve(p, data , retain , random_select , mutate)\n",
    "        fitness_history.append([genetic.fitness(p[0] , data),p[0]])\n",
    "        print('step '+str(i)+'/'+str(steps))\n",
    "    return fitness_history  "
   ]
  },
  {
   "cell_type": "code",
   "execution_count": null,
   "metadata": {},
   "outputs": [],
   "source": []
  }
 ],
 "metadata": {
  "kernelspec": {
   "display_name": "Python 3",
   "language": "python",
   "name": "python3"
  },
  "language_info": {
   "codemirror_mode": {
    "name": "ipython",
    "version": 3
   },
   "file_extension": ".py",
   "mimetype": "text/x-python",
   "name": "python",
   "nbconvert_exporter": "python",
   "pygments_lexer": "ipython3",
   "version": "3.8.2"
  }
 },
 "nbformat": 4,
 "nbformat_minor": 4
}
