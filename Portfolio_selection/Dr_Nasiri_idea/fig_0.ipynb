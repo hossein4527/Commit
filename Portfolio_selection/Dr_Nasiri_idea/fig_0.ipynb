{
 "cells": [
  {
   "cell_type": "code",
   "execution_count": 1,
   "metadata": {},
   "outputs": [
    {
     "name": "stderr",
     "output_type": "stream",
     "text": [
      "/usr/lib/python3.8/site-packages/sklearn/utils/deprecation.py:144: FutureWarning: The sklearn.neighbors.kde module is  deprecated in version 0.22 and will be removed in version 0.24. The corresponding classes / functions should instead be imported from sklearn.neighbors. Anything that cannot be imported from sklearn.neighbors is now part of the private API.\n",
      "  warnings.warn(message, FutureWarning)\n"
     ]
    }
   ],
   "source": [
    "import pandas as pd\n",
    "import numpy as np\n",
    "from mod_genetic import run_genetic as rg\n",
    "from mod_packs import quantum_potential as qp\n",
    "import matplotlib.pyplot as plt\n",
    "import seaborn as sns"
   ]
  },
  {
   "cell_type": "code",
   "execution_count": 2,
   "metadata": {},
   "outputs": [],
   "source": [
    "price_df = pd.read_excel('PRICE INDEX.xlsx').dropna().set_index('Date')\n",
    "price_val = price_df.T.values\n",
    "names = [price_df.columns[i][:3] for i in range(8)]\n",
    "snp_return = qp.scaled_return(price_val[0],1)\n",
    "data = snp_return[4700:-300]"
   ]
  },
  {
   "cell_type": "code",
   "execution_count": 3,
   "metadata": {},
   "outputs": [],
   "source": [
    "x , pot_port = qp.numpy_qpot(data , 0.0005)\n",
    "d , u = qp.risk_data_input(data , 0.0005)"
   ]
  },
  {
   "cell_type": "code",
   "execution_count": 5,
   "metadata": {},
   "outputs": [],
   "source": [
    "y = pot_port[:-42]\n",
    "xx = x[:-42]"
   ]
  },
  {
   "cell_type": "code",
   "execution_count": 122,
   "metadata": {},
   "outputs": [
    {
     "data": {
      "image/png": "[encoded data removed]",
      "text/plain": [
       "<Figure size 360x252 with 1 Axes>"
      ]
     },
     "metadata": {
      "needs_background": "light"
     },
     "output_type": "display_data"
    }
   ],
   "source": [
    "dataa = qp.scaled_return(price_val[6],1)\n",
    "data = dataa[4700:-300]\n",
    "nam = names[6]\n",
    "x , pot_port = qp.numpy_qpot(data , 0.0005)\n",
    "d , u = qp.risk_data_input(data , 0.0005)\n",
    "\n",
    "xxx = price_df.iloc[-2650:].index.year\n",
    "new_x = np.linspace(min(xxx), max(xxx), len(xxx))\n",
    "a = 57\n",
    "b= 25\n",
    "y = pot_port[a:-b]\n",
    "xx = x[a:-b]\n",
    "\n",
    "plt.rcParams['font.family'] = 'sans-serif'\n",
    "plt.rcParams['font.sans-serif'] = 'Helvetica'\n",
    "plt.rcParams['axes.edgecolor']='#333F4B'\n",
    "plt.rcParams['axes.linewidth']=0.8\n",
    "plt.rcParams['xtick.color']='#333F4B'\n",
    "plt.rcParams['ytick.color']='#333F4B'\n",
    "fig, ax = plt.subplots(figsize=(5,3.5))\n",
    "\n",
    "plt.plot(xx , np.array(y)/500 , linewidth=6 , color='blue')\n",
    "# plt.xlim(d-0.001,u+0.001)\n",
    "plt.annotate(\"\", xy=(d , 0.6 ), xytext=( u , 0.6) , arrowprops=dict(arrowstyle=\"<->\" , linewidth=5  , alpha=0.6, color='red') , label='hello')\n",
    "plt.text(-0.003, 0.68, str(np.round(u-d,3)), size=18, rotation=0,\n",
    "             ha=\"center\", va=\"center\",\n",
    "             bbox=dict(boxstyle=\"round\",\n",
    "                       ec=(1., 0.5, 0.5),\n",
    "                       fc=(1., 0.8, 0.8),))\n",
    "\n",
    "ax.set_xlabel('Return', fontsize=15, fontweight='black', color = '#333F4B')\n",
    "ax.set_ylabel('Risk', fontsize=15, fontweight='black', color = '#333F4B')\n",
    "ax.spines['top'].set_color('none')\n",
    "ax.spines['right'].set_color('none')\n",
    "ax.spines['left'].set_smart_bounds(True)\n",
    "ax.spines['bottom'].set_smart_bounds(True)\n",
    "plt.grid(True)\n",
    "plt.axis(False)\n",
    "plt.savefig(nam+'pot.png', dpi=300, bbox_inches='tight' , transparent=True)"
   ]
  },
  {
   "cell_type": "code",
   "execution_count": 137,
   "metadata": {},
   "outputs": [],
   "source": [
    "daily_ret_value = [qp.scaled_return(price_val[i][4700:-300],1) for i in range(8)]\n",
    "monthly_ret_value = [qp.scaled_return(price_val[i][4700:-300],int(len(price_df[4700:-300])/(7*12))) for i in range(8)]\n",
    "seasonly_ret_value = [qp.scaled_return(price_val[i][4700:-300],int(len(price_df[4700:-300])/(7*4))) for i in range(8)]\n",
    "yearly_ret_value = [qp.scaled_return(price_val[i][4700:-300],int(len(price_df[4700:-300])/7)) for i in range(8)]"
   ]
  },
  {
   "cell_type": "code",
   "execution_count": 148,
   "metadata": {},
   "outputs": [],
   "source": [
    "daily_mean_ret = [np.mean(daily_ret_value[i]) for i in range(8)]\n",
    "monthly_mean_ret = [np.mean(monthly_ret_value[i]) for i in range(8)]\n",
    "seasonly_mean_ret = [np.mean(seasonly_ret_value[i]) for i in range(8)]\n",
    "yearly_mean_ret = [np.mean(yearly_ret_value[i]) for i in range(8)]"
   ]
  },
  {
   "cell_type": "code",
   "execution_count": 158,
   "metadata": {},
   "outputs": [],
   "source": [
    "time_scales = [1 , int(len(price_df[4700:-300])/(7*12)) , int(len(price_df[4700:-300])/(7*4))  , int(len(price_df[4700:-300])/(7))]\n",
    "scale_risks = []\n",
    "for k , ts in enumerate(time_scales):\n",
    "    scale_risks.append([])\n",
    "    for i in range(8):\n",
    "        dataa = qp.scaled_return(price_val[i],ts)\n",
    "        data = dataa[4700:-300]\n",
    "        x , pot_port = qp.numpy_qpot(data , 0.0005)\n",
    "        d , u = qp.risk_data_input(data , 0.0005)\n",
    "        scale_risks[k].append(np.round(u-d , 4))\n"
   ]
  },
  {
   "cell_type": "code",
   "execution_count": 164,
   "metadata": {},
   "outputs": [],
   "source": [
    "final_df = pd.DataFrame({'daily mean return':daily_mean_ret ,'daily risk':scale_risks[0], \\\n",
    "                         'monthly mean return': monthly_mean_ret , 'monthly risk':scale_risks[1]\\\n",
    "                         , 'seasonly mean return':seasonly_mean_ret , 'seasonly risk':scale_risks[2]\\\n",
    "                        ,'yearly mean return':yearly_mean_ret ,'yearly risk':scale_risks[3] } , index=names)"
   ]
  },
  {
   "cell_type": "code",
   "execution_count": 172,
   "metadata": {},
   "outputs": [],
   "source": [
    "final_df.to_csv('final_dataFrame' , index=True)"
   ]
  },
  {
   "cell_type": "code",
   "execution_count": null,
   "metadata": {},
   "outputs": [],
   "source": []
  }
 ],
 "metadata": {
  "kernelspec": {
   "display_name": "Python 3",
   "language": "python",
   "name": "python3"
  },
  "language_info": {
   "codemirror_mode": {
    "name": "ipython",
    "version": 3
   },
   "file_extension": ".py",
   "mimetype": "text/x-python",
   "name": "python",
   "nbconvert_exporter": "python",
   "pygments_lexer": "ipython3",
   "version": "3.8.0"
  }
 },
 "nbformat": 4,
 "nbformat_minor": 4
}
