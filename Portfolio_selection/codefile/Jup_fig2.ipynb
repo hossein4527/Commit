{
 "cells": [
  {
   "cell_type": "code",
   "execution_count": 1,
   "metadata": {},
   "outputs": [
    {
     "name": "stderr",
     "output_type": "stream",
     "text": [
      "/usr/lib/python3.8/site-packages/sklearn/utils/deprecation.py:144: FutureWarning: The sklearn.neighbors.kde module is  deprecated in version 0.22 and will be removed in version 0.24. The corresponding classes / functions should instead be imported from sklearn.neighbors. Anything that cannot be imported from sklearn.neighbors is now part of the private API.\n",
      "  warnings.warn(message, FutureWarning)\n"
     ]
    }
   ],
   "source": [
    "import pandas as pd\n",
    "import numpy as np\n",
    "from genetic import run_genetic as rg\n",
    "from my_packs import quantum_potential as qp\n",
    "import matplotlib.pyplot as plt\n",
    "from matplotlib.ticker import MultipleLocator, FixedLocator, FormatStrFormatter"
   ]
  },
  {
   "cell_type": "code",
   "execution_count": 2,
   "metadata": {},
   "outputs": [
    {
     "data": {
      "text/plain": [
       "Index(['S&P 500 COMPOSITE - PRICE INDEX', 'FTSE 100 - PRICE INDEX',\n",
       "       'DAX 30 PERFORMANCE - PRICE INDEX', 'TOPIX - PRICE INDEX',\n",
       "       'SHANGHAI SE A SHARE - PRICE INDEX',\n",
       "       'KOREA SE COMPOSITE (KOSPI) - PRICE INDEX',\n",
       "       'NIKKEI 225 STOCK AVERAGE - PRICE INDEX',\n",
       "       'DOW JONES INDUSTRIALS - PRICE INDEX'],\n",
       "      dtype='object')"
      ]
     },
     "execution_count": 2,
     "metadata": {},
     "output_type": "execute_result"
    }
   ],
   "source": [
    "price_df = pd.read_excel('PRICE INDEX.xlsx').dropna().set_index('Date')\n",
    "price_val = price_df.T.values\n",
    "names = [price_df.columns[i][:3] for i in range(8)]\n",
    "names\n",
    "price_df.columns"
   ]
  },
  {
   "cell_type": "code",
   "execution_count": 3,
   "metadata": {},
   "outputs": [
    {
     "data": {
      "text/html": [
       "<div>\n",
       "<style scoped>\n",
       "    .dataframe tbody tr th:only-of-type {\n",
       "        vertical-align: middle;\n",
       "    }\n",
       "\n",
       "    .dataframe tbody tr th {\n",
       "        vertical-align: top;\n",
       "    }\n",
       "\n",
       "    .dataframe thead th {\n",
       "        text-align: right;\n",
       "    }\n",
       "</style>\n",
       "<table border=\"1\" class=\"dataframe\">\n",
       "  <thead>\n",
       "    <tr style=\"text-align: right;\">\n",
       "      <th></th>\n",
       "      <th>S&amp;P</th>\n",
       "      <th>FTS</th>\n",
       "      <th>DAX</th>\n",
       "      <th>TOP</th>\n",
       "      <th>SHA</th>\n",
       "      <th>KOR</th>\n",
       "      <th>NIK</th>\n",
       "      <th>DOW</th>\n",
       "    </tr>\n",
       "    <tr>\n",
       "      <th>Unnamed: 0</th>\n",
       "      <th></th>\n",
       "      <th></th>\n",
       "      <th></th>\n",
       "      <th></th>\n",
       "      <th></th>\n",
       "      <th></th>\n",
       "      <th></th>\n",
       "      <th></th>\n",
       "    </tr>\n",
       "  </thead>\n",
       "  <tbody>\n",
       "    <tr>\n",
       "      <th>Portfolio 1</th>\n",
       "      <td>16.308637</td>\n",
       "      <td>10.219306</td>\n",
       "      <td>7.489248</td>\n",
       "      <td>11.969375</td>\n",
       "      <td>17.850988</td>\n",
       "      <td>11.272277</td>\n",
       "      <td>7.077368</td>\n",
       "      <td>17.812802</td>\n",
       "    </tr>\n",
       "    <tr>\n",
       "      <th>Portfolio 2</th>\n",
       "      <td>17.035900</td>\n",
       "      <td>13.603168</td>\n",
       "      <td>15.996520</td>\n",
       "      <td>1.728056</td>\n",
       "      <td>14.612206</td>\n",
       "      <td>5.852014</td>\n",
       "      <td>11.971540</td>\n",
       "      <td>19.200597</td>\n",
       "    </tr>\n",
       "    <tr>\n",
       "      <th>Portfolio 3</th>\n",
       "      <td>10.891266</td>\n",
       "      <td>14.770468</td>\n",
       "      <td>7.443647</td>\n",
       "      <td>16.195590</td>\n",
       "      <td>15.557030</td>\n",
       "      <td>10.198692</td>\n",
       "      <td>15.440291</td>\n",
       "      <td>9.503017</td>\n",
       "    </tr>\n",
       "    <tr>\n",
       "      <th>Portfolio 4</th>\n",
       "      <td>16.677185</td>\n",
       "      <td>10.365578</td>\n",
       "      <td>12.096295</td>\n",
       "      <td>9.920928</td>\n",
       "      <td>16.241318</td>\n",
       "      <td>15.939771</td>\n",
       "      <td>7.882755</td>\n",
       "      <td>10.876170</td>\n",
       "    </tr>\n",
       "    <tr>\n",
       "      <th>Portfolio 5</th>\n",
       "      <td>18.395195</td>\n",
       "      <td>10.895408</td>\n",
       "      <td>8.458567</td>\n",
       "      <td>10.296766</td>\n",
       "      <td>15.554677</td>\n",
       "      <td>11.086941</td>\n",
       "      <td>10.501105</td>\n",
       "      <td>14.811341</td>\n",
       "    </tr>\n",
       "  </tbody>\n",
       "</table>\n",
       "</div>"
      ],
      "text/plain": [
       "                   S&P        FTS        DAX        TOP        SHA        KOR  \\\n",
       "Unnamed: 0                                                                      \n",
       "Portfolio 1  16.308637  10.219306   7.489248  11.969375  17.850988  11.272277   \n",
       "Portfolio 2  17.035900  13.603168  15.996520   1.728056  14.612206   5.852014   \n",
       "Portfolio 3  10.891266  14.770468   7.443647  16.195590  15.557030  10.198692   \n",
       "Portfolio 4  16.677185  10.365578  12.096295   9.920928  16.241318  15.939771   \n",
       "Portfolio 5  18.395195  10.895408   8.458567  10.296766  15.554677  11.086941   \n",
       "\n",
       "                   NIK        DOW  \n",
       "Unnamed: 0                         \n",
       "Portfolio 1   7.077368  17.812802  \n",
       "Portfolio 2  11.971540  19.200597  \n",
       "Portfolio 3  15.440291   9.503017  \n",
       "Portfolio 4   7.882755  10.876170  \n",
       "Portfolio 5  10.501105  14.811341  "
      ]
     },
     "execution_count": 3,
     "metadata": {},
     "output_type": "execute_result"
    }
   ],
   "source": [
    "five_port_df = pd.read_csv('portfos').set_index('Unnamed: 0')\n",
    "five_port_df"
   ]
  },
  {
   "cell_type": "code",
   "execution_count": 9,
   "metadata": {},
   "outputs": [
    {
     "data": {
      "image/png": "[encoded data removed]",
      "text/plain": [
       "<Figure size 360x252 with 1 Axes>"
      ]
     },
     "metadata": {
      "needs_background": "light"
     },
     "output_type": "display_data"
    }
   ],
   "source": [
    "from matplotlib import rc\n",
    "fig, ax = plt.subplots(figsize=(5,3.5))\n",
    "\n",
    "plt.rcParams['font.family'] = 'sans-serif'\n",
    "plt.rcParams['font.sans-serif'] = 'Helvetica'\n",
    "plt.rcParams['axes.edgecolor']='#333F4B'\n",
    "plt.rcParams['axes.linewidth']=0.9\n",
    "plt.rcParams['xtick.color']='#333F4B'\n",
    "plt.rcParams['ytick.color']='#333F4B'\n",
    "\n",
    "r = [0,1,2,3,4]\n",
    "df = five_port_df\n",
    "barWidth = 0.65\n",
    "names = df.index\n",
    "# Create green Bars\n",
    "plt.bar(r, df[df.columns[0]], color='#b5ffb9', edgecolor='white', width=barWidth ,  label=df.columns[0])\n",
    "plt.bar(r, df[df.columns[1]], bottom=df[df.columns[0]], color='#f9bc86', edgecolor='white', width=barWidth , label=df.columns[1])\n",
    "plt.bar(r, df[df.columns[2]], bottom=[i+j for i,j in zip(df[df.columns[0]], df[df.columns[1]])], color='#a3acff', edgecolor='white', width=barWidth, label=df.columns[2])\n",
    "plt.bar(r, df[df.columns[3]], bottom=[i+j+k for i,j,k in zip(df[df.columns[0]], df[df.columns[1]] , df[df.columns[2]])], color='#ff4d4d', edgecolor='white', width=barWidth , alpha=0.9 ,  label=df.columns[3])\n",
    "plt.bar(r, df[df.columns[4]], bottom=[i+j+k+l for i,j,k,l in zip(df[df.columns[0]], df[df.columns[1]] , df[df.columns[2]] , df[df.columns[3]])], color='greenyellow', edgecolor='white', width=barWidth , label=df.columns[4])\n",
    "plt.bar(r, df[df.columns[5]], bottom=[i+j+k+l+m for i,j,k,l,m in zip(df[df.columns[0]], df[df.columns[1]] , df[df.columns[2]] , df[df.columns[3]] , df[df.columns[4]])], color='lightcoral', edgecolor='white', width=barWidth ,label=df.columns[5] )   \n",
    "plt.bar(r, df[df.columns[6]], bottom=[i+j+k+l+m+n for i,j,k,l,m,n in zip(df[df.columns[0]], df[df.columns[1]] , df[df.columns[2]] , df[df.columns[3]] , df[df.columns[4]] , df[df.columns[5]])], color='grey', edgecolor='white', width=barWidth ,label=df.columns[6])\n",
    "plt.bar(r, df[df.columns[7]], bottom=[i+j+k+l+m+n+o for i,j,k,l,m,n,o in zip(df[df.columns[0]], df[df.columns[1]] , df[df.columns[2]] , df[df.columns[3]] , df[df.columns[4]] , df[df.columns[5]] , df[df.columns[6]])], color='blueviolet', edgecolor='white', width=barWidth ,alpha=.9 , label=df.columns[7]) \n",
    "\n",
    "# Custom x axis\n",
    "plt.xticks(r, names , fontsize=10, fontweight='black', color = '#333F4B')\n",
    "plt.legend(loc='upper left', bbox_to_anchor=(1,1), ncol=1)\n",
    "plt.setp(plt.gca().get_xticklabels(), rotation=45, horizontalalignment='right')\n",
    "plt.ylabel('Percentage' , fontsize=15, fontweight='black', color = '#333F4B')\n",
    "\n",
    "ax.spines['top'].set_color('none')\n",
    "ax.spines['right'].set_color('none')\n",
    "ax.spines['left'].set_smart_bounds(True)\n",
    "ax.spines['bottom'].set_smart_bounds(True)\n",
    "\n",
    "plt.savefig('fig2.png', dpi=300, bbox_inches='tight', transparent = True)"
   ]
  },
  {
   "cell_type": "code",
   "execution_count": null,
   "metadata": {},
   "outputs": [],
   "source": []
  }
 ],
 "metadata": {
  "kernelspec": {
   "display_name": "Python 3",
   "language": "python",
   "name": "python3"
  },
  "language_info": {
   "codemirror_mode": {
    "name": "ipython",
    "version": 3
   },
   "file_extension": ".py",
   "mimetype": "text/x-python",
   "name": "python",
   "nbconvert_exporter": "python",
   "pygments_lexer": "ipython3",
   "version": "3.8.5"
  }
 },
 "nbformat": 4,
 "nbformat_minor": 4
}
